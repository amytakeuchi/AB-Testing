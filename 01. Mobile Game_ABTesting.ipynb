{
 "cells": [
  {
   "cell_type": "markdown",
   "id": "261cd621-0165-456d-b412-9414548ac8a1",
   "metadata": {},
   "source": [
    "#  Mobile Games A/B Testing - Cookie Cats"
   ]
  },
  {
   "cell_type": "markdown",
   "id": "759c0b04-6fbc-46b4-ba60-9ed5f97cced6",
   "metadata": {},
   "source": [
    "Project summary: Cookie Cats, a popular mobile puzzle game, imposes a ‘gate’, where players are forced to wait a significant amount of time or make an in-app purchase to progress, as players continue to progress the game.  The A/B test was conducted to examine whether the ‘gate’ is better to be deployed in Level. 30 or Level. 40. After the data wrangling, exploration and application of Hypothesis testing, the business recommendation was made as:XXXXXXXXXXXXXXXXX"
   ]
  },
  {
   "cell_type": "markdown",
   "id": "e539bf54-4f33-4b15-b39f-96370ecd532e",
   "metadata": {},
   "source": [
    "### 1. Problem Statement"
   ]
  },
  {
   "cell_type": "markdown",
   "id": "4eb08853-de8c-4bb3-a28c-2f7fff9c9012",
   "metadata": {},
   "source": [
    "[Cookie Cats](https://www.facebook.com/cookiecatsgame) is a hugely popular mobile puzzle game developed by [Tactile Entertainment](http://tactile.dk/). It's a classic \"connect three\"-style puzzle game where the player must connect tiles of the same color to clear the board and win the level. It also features singing cats.\n",
    "\n",
    "As players progress through the levels of the game, they will **occasionally encounter gates that force them to wait a non-trivial amount of time or make an in-app purchase to progress**. In addition to driving in-app purchases, these gates serve the important purpose of giving players an enforced break from playing the game, hopefully resulting in that the player's enjoyment of the game being increased and prolonged.\n",
    "\n",
    "But where should the gates be placed? Initially the first gate was placed at level 30. **In this project, we're going to analyze an AB-test where we moved the first gate in Cookie Cats from level 30 to level 40. In particular, we will look at the impact on player retention.**"
   ]
  },
  {
   "cell_type": "markdown",
   "id": "e787e5d7-a53f-41c5-803a-a35131406e9e",
   "metadata": {
    "tags": []
   },
   "source": [
    "### 1.1 About the Dataset"
   ]
  },
  {
   "cell_type": "markdown",
   "id": "018bf3e0-6733-4384-bfe7-681339b45003",
   "metadata": {},
   "source": [
    "The data is from 90,189 players that installed the game while the AB-test was running. The variables are:\n",
    "- 'userid':     special number given to each player\n",
    "- 'version':     The players were split into two groups: one called the control group, where players had a gate at level 30 (gate_30), and the other called the test group, where players had a gate at level 40 (gate_40).\n",
    "- 'sum_gamerounds':     They checked how many rounds of the game each player played in the first week after they installed the game. \n",
    "- 'retention_1':     They wanted to know if players came back to play the game again after 1 day.\n",
    "- 'retention_7':     They also checked if players came back after 7 days. \n",
    "\n",
    "When a player got the game, they were randomly put into either the gate_30 or gate_40 group."
   ]
  },
  {
   "cell_type": "markdown",
   "id": "26739c47-1ba9-48b0-8463-9c29cdf74be9",
   "metadata": {
    "tags": []
   },
   "source": [
    "###  1.2 Designing the hypothesis\n",
    "### Check the key metrics\n",
    "- **Engagement metrics**\n",
    "    - Retention rate\n",
    "\n",
    "The key metric we ar egoing to take into account is the retention rate. The experiment records the retention after 1 day and 7 days respectively and the retention rate dor the both will be evaluated.\n",
    "\n",
    "#### Form the hypothesis\n",
    "This time, we are going to form the null hypothesis as:\n",
    "\n",
    "\n",
    "$H0: p0 = p1$\n",
    "\n",
    "which means that the control group is not significantly different from the treatment group.\n",
    "\n",
    "While alternative hypothesis as:\n",
    "\n",
    "$H1: p0 =! p1$\n",
    "\n",
    "equals to the control group being significantly different from the treatment group.\n",
    "Also, the alpha is defined as:\n",
    "\n",
    "- Alpha(confidence interval): \n",
    "            $Alpha = 0.05$ \n",
    "            \n",
    "This means the level of confidence interval as 95%.\n",
    "\n",
    "#### Choose the variables\n",
    "**Experiment groups:**\n",
    "- **Control**: players encounter the gate in lv. 30\n",
    "- **Treatment**: same in lv. 40\n",
    "\n",
    "**Eligibility**\n",
    "    - Players who signed up for the game within the assigned period\n",
    "\n",
    "\n",
    "### Choose the sample size\n",
    "The dataset here has 90,189 rows, which is large enough to perform a precise z-test"
   ]
  },
  {
   "cell_type": "markdown",
   "id": "137924ca-b46a-416f-b982-1bf63e828df9",
   "metadata": {},
   "source": [
    "### A/B Testing Process"
   ]
  },
  {
   "cell_type": "markdown",
   "id": "57c8d4f6-4b58-4870-92de-b33cb23c924e",
   "metadata": {},
   "source": [
    "1. Understand the business problem & Data (Done in the section above)\n",
    "2. Data Wrangling and cleaning\n",
    "3. EDA - Sumary Statistics and Visualization\n",
    "4. Hypothesis Testing \n",
    "    - Apply tests (z-tests)\n",
    "5. Evaluate the results\n",
    "6. Make inferences\n",
    "7. Business Recommendations"
   ]
  },
  {
   "cell_type": "markdown",
   "id": "dd8e719a-6d11-4d67-bfa4-9ca806f6d544",
   "metadata": {},
   "source": [
    "## 2. Data Wrangling and cleaning"
   ]
  },
  {
   "cell_type": "code",
   "execution_count": 2,
   "id": "0cdec12b-b9dd-4797-9da7-c1e4d8734476",
   "metadata": {
    "tags": []
   },
   "outputs": [],
   "source": [
    "#setup\n",
    "import numpy as np\n",
    "import pandas as pd\n",
    "import matplotlib.pyplot as plt\n",
    "import seaborn as sns\n",
    "\n",
    "from statsmodels.stats.proportion import proportions_ztest, proportion_confint\n",
    "\n",
    "%matplotlib inline\n",
    "import warnings\n",
    "warnings.filterwarnings('ignore')"
   ]
  },
  {
   "cell_type": "code",
   "execution_count": 3,
   "id": "c507a172-bb42-4512-b57a-e4b902321d36",
   "metadata": {
    "tags": []
   },
   "outputs": [],
   "source": [
    "df = pd.read_csv('/Users/asamitakeuchi/Game/cookie_cats.csv')"
   ]
  },
  {
   "cell_type": "code",
   "execution_count": 4,
   "id": "bc91a066-a387-4ad9-9017-261d226d59bb",
   "metadata": {
    "tags": []
   },
   "outputs": [
    {
     "data": {
      "text/html": [
       "<div>\n",
       "<style scoped>\n",
       "    .dataframe tbody tr th:only-of-type {\n",
       "        vertical-align: middle;\n",
       "    }\n",
       "\n",
       "    .dataframe tbody tr th {\n",
       "        vertical-align: top;\n",
       "    }\n",
       "\n",
       "    .dataframe thead th {\n",
       "        text-align: right;\n",
       "    }\n",
       "</style>\n",
       "<table border=\"1\" class=\"dataframe\">\n",
       "  <thead>\n",
       "    <tr style=\"text-align: right;\">\n",
       "      <th></th>\n",
       "      <th>userid</th>\n",
       "      <th>version</th>\n",
       "      <th>sum_gamerounds</th>\n",
       "      <th>retention_1</th>\n",
       "      <th>retention_7</th>\n",
       "    </tr>\n",
       "  </thead>\n",
       "  <tbody>\n",
       "    <tr>\n",
       "      <th>0</th>\n",
       "      <td>116</td>\n",
       "      <td>gate_30</td>\n",
       "      <td>3</td>\n",
       "      <td>False</td>\n",
       "      <td>False</td>\n",
       "    </tr>\n",
       "    <tr>\n",
       "      <th>1</th>\n",
       "      <td>337</td>\n",
       "      <td>gate_30</td>\n",
       "      <td>38</td>\n",
       "      <td>True</td>\n",
       "      <td>False</td>\n",
       "    </tr>\n",
       "    <tr>\n",
       "      <th>2</th>\n",
       "      <td>377</td>\n",
       "      <td>gate_40</td>\n",
       "      <td>165</td>\n",
       "      <td>True</td>\n",
       "      <td>False</td>\n",
       "    </tr>\n",
       "    <tr>\n",
       "      <th>3</th>\n",
       "      <td>483</td>\n",
       "      <td>gate_40</td>\n",
       "      <td>1</td>\n",
       "      <td>False</td>\n",
       "      <td>False</td>\n",
       "    </tr>\n",
       "    <tr>\n",
       "      <th>4</th>\n",
       "      <td>488</td>\n",
       "      <td>gate_40</td>\n",
       "      <td>179</td>\n",
       "      <td>True</td>\n",
       "      <td>True</td>\n",
       "    </tr>\n",
       "  </tbody>\n",
       "</table>\n",
       "</div>"
      ],
      "text/plain": [
       "   userid  version  sum_gamerounds  retention_1  retention_7\n",
       "0     116  gate_30               3        False        False\n",
       "1     337  gate_30              38         True        False\n",
       "2     377  gate_40             165         True        False\n",
       "3     483  gate_40               1        False        False\n",
       "4     488  gate_40             179         True         True"
      ]
     },
     "execution_count": 4,
     "metadata": {},
     "output_type": "execute_result"
    }
   ],
   "source": [
    "df.head()"
   ]
  },
  {
   "cell_type": "code",
   "execution_count": 5,
   "id": "8baa3627-5f5d-4954-9a0e-ec70a21ee625",
   "metadata": {
    "tags": []
   },
   "outputs": [
    {
     "name": "stdout",
     "output_type": "stream",
     "text": [
      "<class 'pandas.core.frame.DataFrame'>\n",
      "RangeIndex: 90189 entries, 0 to 90188\n",
      "Data columns (total 5 columns):\n",
      " #   Column          Non-Null Count  Dtype \n",
      "---  ------          --------------  ----- \n",
      " 0   userid          90189 non-null  int64 \n",
      " 1   version         90189 non-null  object\n",
      " 2   sum_gamerounds  90189 non-null  int64 \n",
      " 3   retention_1     90189 non-null  bool  \n",
      " 4   retention_7     90189 non-null  bool  \n",
      "dtypes: bool(2), int64(2), object(1)\n",
      "memory usage: 2.2+ MB\n"
     ]
    }
   ],
   "source": [
    "df.info()"
   ]
  },
  {
   "cell_type": "code",
   "execution_count": 6,
   "id": "bd8fb015-584b-4dc6-999a-9e463a0bcf1c",
   "metadata": {
    "tags": []
   },
   "outputs": [
    {
     "data": {
      "text/html": [
       "<div>\n",
       "<style scoped>\n",
       "    .dataframe tbody tr th:only-of-type {\n",
       "        vertical-align: middle;\n",
       "    }\n",
       "\n",
       "    .dataframe tbody tr th {\n",
       "        vertical-align: top;\n",
       "    }\n",
       "\n",
       "    .dataframe thead th {\n",
       "        text-align: right;\n",
       "    }\n",
       "</style>\n",
       "<table border=\"1\" class=\"dataframe\">\n",
       "  <thead>\n",
       "    <tr style=\"text-align: right;\">\n",
       "      <th></th>\n",
       "      <th>userid</th>\n",
       "      <th>sum_gamerounds</th>\n",
       "    </tr>\n",
       "  </thead>\n",
       "  <tbody>\n",
       "    <tr>\n",
       "      <th>count</th>\n",
       "      <td>9.018900e+04</td>\n",
       "      <td>90189.000000</td>\n",
       "    </tr>\n",
       "    <tr>\n",
       "      <th>mean</th>\n",
       "      <td>4.998412e+06</td>\n",
       "      <td>51.872457</td>\n",
       "    </tr>\n",
       "    <tr>\n",
       "      <th>std</th>\n",
       "      <td>2.883286e+06</td>\n",
       "      <td>195.050858</td>\n",
       "    </tr>\n",
       "    <tr>\n",
       "      <th>min</th>\n",
       "      <td>1.160000e+02</td>\n",
       "      <td>0.000000</td>\n",
       "    </tr>\n",
       "    <tr>\n",
       "      <th>25%</th>\n",
       "      <td>2.512230e+06</td>\n",
       "      <td>5.000000</td>\n",
       "    </tr>\n",
       "    <tr>\n",
       "      <th>50%</th>\n",
       "      <td>4.995815e+06</td>\n",
       "      <td>16.000000</td>\n",
       "    </tr>\n",
       "    <tr>\n",
       "      <th>75%</th>\n",
       "      <td>7.496452e+06</td>\n",
       "      <td>51.000000</td>\n",
       "    </tr>\n",
       "    <tr>\n",
       "      <th>max</th>\n",
       "      <td>9.999861e+06</td>\n",
       "      <td>49854.000000</td>\n",
       "    </tr>\n",
       "  </tbody>\n",
       "</table>\n",
       "</div>"
      ],
      "text/plain": [
       "             userid  sum_gamerounds\n",
       "count  9.018900e+04    90189.000000\n",
       "mean   4.998412e+06       51.872457\n",
       "std    2.883286e+06      195.050858\n",
       "min    1.160000e+02        0.000000\n",
       "25%    2.512230e+06        5.000000\n",
       "50%    4.995815e+06       16.000000\n",
       "75%    7.496452e+06       51.000000\n",
       "max    9.999861e+06    49854.000000"
      ]
     },
     "execution_count": 6,
     "metadata": {},
     "output_type": "execute_result"
    }
   ],
   "source": [
    "df.describe()"
   ]
  },
  {
   "cell_type": "code",
   "execution_count": 7,
   "id": "6ec60b56-80cf-4b83-beb8-fc4f69d63328",
   "metadata": {
    "tags": []
   },
   "outputs": [
    {
     "data": {
      "text/plain": [
       "userid            0\n",
       "version           0\n",
       "sum_gamerounds    0\n",
       "retention_1       0\n",
       "retention_7       0\n",
       "dtype: int64"
      ]
     },
     "execution_count": 7,
     "metadata": {},
     "output_type": "execute_result"
    }
   ],
   "source": [
    "df.isnull().sum()"
   ]
  },
  {
   "cell_type": "markdown",
   "id": "aa9b31b9-faef-4703-835a-3fd050572190",
   "metadata": {},
   "source": [
    "No missing data"
   ]
  },
  {
   "cell_type": "markdown",
   "id": "2a087fcc-acce-4742-83c9-e39d140079a1",
   "metadata": {},
   "source": [
    "## 3. Exploratory Data Analysis - summey stats and Data Visualization"
   ]
  },
  {
   "cell_type": "code",
   "execution_count": 8,
   "id": "1e2c8413-0dbf-4960-887b-1a4f291fac27",
   "metadata": {
    "tags": []
   },
   "outputs": [
    {
     "data": {
      "text/html": [
       "<div>\n",
       "<style scoped>\n",
       "    .dataframe tbody tr th:only-of-type {\n",
       "        vertical-align: middle;\n",
       "    }\n",
       "\n",
       "    .dataframe tbody tr th {\n",
       "        vertical-align: top;\n",
       "    }\n",
       "\n",
       "    .dataframe thead th {\n",
       "        text-align: right;\n",
       "    }\n",
       "</style>\n",
       "<table border=\"1\" class=\"dataframe\">\n",
       "  <thead>\n",
       "    <tr style=\"text-align: right;\">\n",
       "      <th></th>\n",
       "      <th>userid</th>\n",
       "      <th>sum_gamerounds</th>\n",
       "      <th>retention_1</th>\n",
       "      <th>retention_7</th>\n",
       "    </tr>\n",
       "    <tr>\n",
       "      <th>version</th>\n",
       "      <th></th>\n",
       "      <th></th>\n",
       "      <th></th>\n",
       "      <th></th>\n",
       "    </tr>\n",
       "  </thead>\n",
       "  <tbody>\n",
       "    <tr>\n",
       "      <th>gate_30</th>\n",
       "      <td>44700</td>\n",
       "      <td>44700</td>\n",
       "      <td>44700</td>\n",
       "      <td>44700</td>\n",
       "    </tr>\n",
       "    <tr>\n",
       "      <th>gate_40</th>\n",
       "      <td>45489</td>\n",
       "      <td>45489</td>\n",
       "      <td>45489</td>\n",
       "      <td>45489</td>\n",
       "    </tr>\n",
       "  </tbody>\n",
       "</table>\n",
       "</div>"
      ],
      "text/plain": [
       "         userid  sum_gamerounds  retention_1  retention_7\n",
       "version                                                  \n",
       "gate_30   44700           44700        44700        44700\n",
       "gate_40   45489           45489        45489        45489"
      ]
     },
     "execution_count": 8,
     "metadata": {},
     "output_type": "execute_result"
    }
   ],
   "source": [
    "df.groupby('version').count()"
   ]
  },
  {
   "cell_type": "code",
   "execution_count": 9,
   "id": "a8e0c224-c6a1-4973-a0b1-61afd543732b",
   "metadata": {
    "tags": []
   },
   "outputs": [
    {
     "data": {
      "text/html": [
       "<div>\n",
       "<style scoped>\n",
       "    .dataframe tbody tr th:only-of-type {\n",
       "        vertical-align: middle;\n",
       "    }\n",
       "\n",
       "    .dataframe tbody tr th {\n",
       "        vertical-align: top;\n",
       "    }\n",
       "\n",
       "    .dataframe thead th {\n",
       "        text-align: right;\n",
       "    }\n",
       "</style>\n",
       "<table border=\"1\" class=\"dataframe\">\n",
       "  <thead>\n",
       "    <tr style=\"text-align: right;\">\n",
       "      <th></th>\n",
       "      <th>count</th>\n",
       "      <th>min</th>\n",
       "      <th>max</th>\n",
       "      <th>mean</th>\n",
       "      <th>median</th>\n",
       "      <th>std</th>\n",
       "    </tr>\n",
       "    <tr>\n",
       "      <th>version</th>\n",
       "      <th></th>\n",
       "      <th></th>\n",
       "      <th></th>\n",
       "      <th></th>\n",
       "      <th></th>\n",
       "      <th></th>\n",
       "    </tr>\n",
       "  </thead>\n",
       "  <tbody>\n",
       "    <tr>\n",
       "      <th>gate_30</th>\n",
       "      <td>44700</td>\n",
       "      <td>0</td>\n",
       "      <td>49854</td>\n",
       "      <td>52.456264</td>\n",
       "      <td>17.0</td>\n",
       "      <td>256.716423</td>\n",
       "    </tr>\n",
       "    <tr>\n",
       "      <th>gate_40</th>\n",
       "      <td>45489</td>\n",
       "      <td>0</td>\n",
       "      <td>2640</td>\n",
       "      <td>51.298776</td>\n",
       "      <td>16.0</td>\n",
       "      <td>103.294416</td>\n",
       "    </tr>\n",
       "  </tbody>\n",
       "</table>\n",
       "</div>"
      ],
      "text/plain": [
       "         count  min    max       mean  median         std\n",
       "version                                                  \n",
       "gate_30  44700    0  49854  52.456264    17.0  256.716423\n",
       "gate_40  45489    0   2640  51.298776    16.0  103.294416"
      ]
     },
     "execution_count": 9,
     "metadata": {},
     "output_type": "execute_result"
    }
   ],
   "source": [
    "#summary stats of sum_gamerounds by versions\n",
    "df.groupby('version').sum_gamerounds.agg(['count','min','max','mean','median','std'])"
   ]
  },
  {
   "cell_type": "code",
   "execution_count": 10,
   "id": "53d2f09a-320d-4da2-bbdf-1e78cf88f474",
   "metadata": {
    "tags": []
   },
   "outputs": [
    {
     "data": {
      "text/plain": [
       "<Axes: xlabel='version', ylabel='sum_gamerounds'>"
      ]
     },
     "execution_count": 10,
     "metadata": {},
     "output_type": "execute_result"
    },
    {
     "data": {
      "image/png": "[encoded data removed]",
      "text/plain": [
       "<Figure size 800x500 with 1 Axes>"
      ]
     },
     "metadata": {},
     "output_type": "display_data"
    }
   ],
   "source": [
    "#check the outlier for sum_gamerounds\n",
    "fig, ax = plt.subplots(figsize = (8,5))\n",
    "sns.boxplot(x=df['version'], y=df['sum_gamerounds'])"
   ]
  },
  {
   "cell_type": "markdown",
   "id": "f32b7e82-444d-45dc-96fe-707891ec4f7a",
   "metadata": {},
   "source": [
    "There is an outlier in the gate_30 data (>50000)"
   ]
  },
  {
   "cell_type": "code",
   "execution_count": 11,
   "id": "40b1d0a9-cdda-4b4b-bfac-e269ff182b31",
   "metadata": {
    "tags": []
   },
   "outputs": [
    {
     "data": {
      "text/html": [
       "<div>\n",
       "<style scoped>\n",
       "    .dataframe tbody tr th:only-of-type {\n",
       "        vertical-align: middle;\n",
       "    }\n",
       "\n",
       "    .dataframe tbody tr th {\n",
       "        vertical-align: top;\n",
       "    }\n",
       "\n",
       "    .dataframe thead th {\n",
       "        text-align: right;\n",
       "    }\n",
       "</style>\n",
       "<table border=\"1\" class=\"dataframe\">\n",
       "  <thead>\n",
       "    <tr style=\"text-align: right;\">\n",
       "      <th></th>\n",
       "      <th>userid</th>\n",
       "      <th>sum_gamerounds</th>\n",
       "      <th>retention_1</th>\n",
       "      <th>retention_7</th>\n",
       "    </tr>\n",
       "    <tr>\n",
       "      <th>version</th>\n",
       "      <th></th>\n",
       "      <th></th>\n",
       "      <th></th>\n",
       "      <th></th>\n",
       "    </tr>\n",
       "  </thead>\n",
       "  <tbody>\n",
       "    <tr>\n",
       "      <th>gate_30</th>\n",
       "      <td>1937</td>\n",
       "      <td>1937</td>\n",
       "      <td>1937</td>\n",
       "      <td>1937</td>\n",
       "    </tr>\n",
       "    <tr>\n",
       "      <th>gate_40</th>\n",
       "      <td>2057</td>\n",
       "      <td>2057</td>\n",
       "      <td>2057</td>\n",
       "      <td>2057</td>\n",
       "    </tr>\n",
       "  </tbody>\n",
       "</table>\n",
       "</div>"
      ],
      "text/plain": [
       "         userid  sum_gamerounds  retention_1  retention_7\n",
       "version                                                  \n",
       "gate_30    1937            1937         1937         1937\n",
       "gate_40    2057            2057         2057         2057"
      ]
     },
     "execution_count": 11,
     "metadata": {},
     "output_type": "execute_result"
    }
   ],
   "source": [
    "#Check the number of people who played 0 rounds after installing\n",
    "zero_df = df[df['sum_gamerounds'] == 0]\n",
    "zero_df.groupby('version').count()"
   ]
  },
  {
   "cell_type": "markdown",
   "id": "8206355b-ebdf-449e-907a-0743692afb42",
   "metadata": {},
   "source": [
    "3994 players nuver played the game after installing."
   ]
  },
  {
   "cell_type": "code",
   "execution_count": 12,
   "id": "367e19b9-57d6-4843-be1a-1794cc41e59f",
   "metadata": {
    "tags": []
   },
   "outputs": [
    {
     "data": {
      "text/plain": [
       "Text(0.5, 1.0, 'Distplot of total gamerounds by lv.30 vs lv.40 before removing the outlier')"
      ]
     },
     "execution_count": 12,
     "metadata": {},
     "output_type": "execute_result"
    },
    {
     "data": {
      "image/png": "[encoded data removed]",
      "text/plain": [
       "<Figure size 800x500 with 1 Axes>"
      ]
     },
     "metadata": {},
     "output_type": "display_data"
    }
   ],
   "source": [
    "#Plot the distplot\n",
    "sum_30 = df[df['version'] == 'gate_30']['sum_gamerounds']\n",
    "sum_40 = df[df['version'] == 'gate_40']['sum_gamerounds']\n",
    "\n",
    "fig, ax = plt.subplots(figsize = (8, 5))\n",
    "ax1 = sns.distplot(sum_30)\n",
    "ax2 = sns.distplot(sum_40)\n",
    "ax.set_title(f'Distplot of total gamerounds by lv.30 vs lv.40 before removing the outlier')"
   ]
  },
  {
   "cell_type": "code",
   "execution_count": 13,
   "id": "dcb36492-08f9-46a8-aa36-808e1e74726f",
   "metadata": {
    "tags": []
   },
   "outputs": [
    {
     "data": {
      "text/html": [
       "<div>\n",
       "<style scoped>\n",
       "    .dataframe tbody tr th:only-of-type {\n",
       "        vertical-align: middle;\n",
       "    }\n",
       "\n",
       "    .dataframe tbody tr th {\n",
       "        vertical-align: top;\n",
       "    }\n",
       "\n",
       "    .dataframe thead th {\n",
       "        text-align: right;\n",
       "    }\n",
       "</style>\n",
       "<table border=\"1\" class=\"dataframe\">\n",
       "  <thead>\n",
       "    <tr style=\"text-align: right;\">\n",
       "      <th></th>\n",
       "      <th>userid</th>\n",
       "      <th>sum_gamerounds</th>\n",
       "    </tr>\n",
       "  </thead>\n",
       "  <tbody>\n",
       "    <tr>\n",
       "      <th>count</th>\n",
       "      <td>9.018800e+04</td>\n",
       "      <td>90188.000000</td>\n",
       "    </tr>\n",
       "    <tr>\n",
       "      <th>mean</th>\n",
       "      <td>4.998397e+06</td>\n",
       "      <td>51.320253</td>\n",
       "    </tr>\n",
       "    <tr>\n",
       "      <th>std</th>\n",
       "      <td>2.883298e+06</td>\n",
       "      <td>102.682719</td>\n",
       "    </tr>\n",
       "    <tr>\n",
       "      <th>min</th>\n",
       "      <td>1.160000e+02</td>\n",
       "      <td>0.000000</td>\n",
       "    </tr>\n",
       "    <tr>\n",
       "      <th>25%</th>\n",
       "      <td>2.512211e+06</td>\n",
       "      <td>5.000000</td>\n",
       "    </tr>\n",
       "    <tr>\n",
       "      <th>50%</th>\n",
       "      <td>4.995804e+06</td>\n",
       "      <td>16.000000</td>\n",
       "    </tr>\n",
       "    <tr>\n",
       "      <th>75%</th>\n",
       "      <td>7.496461e+06</td>\n",
       "      <td>51.000000</td>\n",
       "    </tr>\n",
       "    <tr>\n",
       "      <th>max</th>\n",
       "      <td>9.999861e+06</td>\n",
       "      <td>2961.000000</td>\n",
       "    </tr>\n",
       "  </tbody>\n",
       "</table>\n",
       "</div>"
      ],
      "text/plain": [
       "             userid  sum_gamerounds\n",
       "count  9.018800e+04    90188.000000\n",
       "mean   4.998397e+06       51.320253\n",
       "std    2.883298e+06      102.682719\n",
       "min    1.160000e+02        0.000000\n",
       "25%    2.512211e+06        5.000000\n",
       "50%    4.995804e+06       16.000000\n",
       "75%    7.496461e+06       51.000000\n",
       "max    9.999861e+06     2961.000000"
      ]
     },
     "execution_count": 13,
     "metadata": {},
     "output_type": "execute_result"
    }
   ],
   "source": [
    "#remove the outlier \n",
    "df_removed = df[df['sum_gamerounds'] < 40000]\n",
    "df_removed.describe()"
   ]
  },
  {
   "cell_type": "markdown",
   "id": "70fa7a0d-cda9-45e6-a70d-87448a89efe4",
   "metadata": {},
   "source": [
    "The average total gamerounds played after removing outliers is 51.32 and median rounds is 16.\n",
    "The distribution is highly long-tailed here."
   ]
  },
  {
   "cell_type": "markdown",
   "id": "463775e8-cf2b-4e00-b849-6804db6d6c39",
   "metadata": {},
   "source": [
    "The max round is 2961"
   ]
  },
  {
   "cell_type": "code",
   "execution_count": 14,
   "id": "7ddef5ee-bff9-4393-9bb6-9139699f952a",
   "metadata": {
    "tags": []
   },
   "outputs": [
    {
     "data": {
      "text/html": [
       "<div>\n",
       "<style scoped>\n",
       "    .dataframe tbody tr th:only-of-type {\n",
       "        vertical-align: middle;\n",
       "    }\n",
       "\n",
       "    .dataframe tbody tr th {\n",
       "        vertical-align: top;\n",
       "    }\n",
       "\n",
       "    .dataframe thead th {\n",
       "        text-align: right;\n",
       "    }\n",
       "</style>\n",
       "<table border=\"1\" class=\"dataframe\">\n",
       "  <thead>\n",
       "    <tr style=\"text-align: right;\">\n",
       "      <th></th>\n",
       "      <th>count</th>\n",
       "      <th>min</th>\n",
       "      <th>max</th>\n",
       "      <th>mean</th>\n",
       "      <th>median</th>\n",
       "      <th>std</th>\n",
       "    </tr>\n",
       "    <tr>\n",
       "      <th>version</th>\n",
       "      <th></th>\n",
       "      <th></th>\n",
       "      <th></th>\n",
       "      <th></th>\n",
       "      <th></th>\n",
       "      <th></th>\n",
       "    </tr>\n",
       "  </thead>\n",
       "  <tbody>\n",
       "    <tr>\n",
       "      <th>gate_30</th>\n",
       "      <td>44699</td>\n",
       "      <td>0</td>\n",
       "      <td>2961</td>\n",
       "      <td>51.342111</td>\n",
       "      <td>17.0</td>\n",
       "      <td>102.057598</td>\n",
       "    </tr>\n",
       "    <tr>\n",
       "      <th>gate_40</th>\n",
       "      <td>45489</td>\n",
       "      <td>0</td>\n",
       "      <td>2640</td>\n",
       "      <td>51.298776</td>\n",
       "      <td>16.0</td>\n",
       "      <td>103.294416</td>\n",
       "    </tr>\n",
       "  </tbody>\n",
       "</table>\n",
       "</div>"
      ],
      "text/plain": [
       "         count  min   max       mean  median         std\n",
       "version                                                 \n",
       "gate_30  44699    0  2961  51.342111    17.0  102.057598\n",
       "gate_40  45489    0  2640  51.298776    16.0  103.294416"
      ]
     },
     "execution_count": 14,
     "metadata": {},
     "output_type": "execute_result"
    }
   ],
   "source": [
    "#summary stats of sum_gamerounds with outlier removed by versions\n",
    "df_removed.groupby('version').sum_gamerounds.agg(['count','min','max','mean','median','std'])"
   ]
  },
  {
   "cell_type": "code",
   "execution_count": 15,
   "id": "eae2db7c-13fb-4898-a4b6-c43758679ae1",
   "metadata": {
    "tags": []
   },
   "outputs": [
    {
     "data": {
      "text/plain": [
       "Text(0.5, 1.0, 'Total gamerounds by gate 30 vs gate 40')"
      ]
     },
     "execution_count": 15,
     "metadata": {},
     "output_type": "execute_result"
    },
    {
     "data": {
      "image/png": "[encoded data removed]",
      "text/plain": [
       "<Figure size 800x500 with 1 Axes>"
      ]
     },
     "metadata": {},
     "output_type": "display_data"
    }
   ],
   "source": [
    "#plot distplot again\n",
    "sumr_30 = df_removed[df_removed['version'] == 'gate_30']['sum_gamerounds']\n",
    "sumr_40 = df_removed[df_removed['version'] == 'gate_40']['sum_gamerounds']\n",
    "\n",
    "fig, ax = plt.subplots(figsize = (8, 5))\n",
    "ax1 = sns.distplot(sumr_30, color='blue')\n",
    "ax2 = sns.distplot(sumr_40, color='orange')\n",
    "ax.set_title('Total gamerounds by gate 30 vs gate 40')"
   ]
  },
  {
   "cell_type": "code",
   "execution_count": 51,
   "id": "e7c8deb7-f756-4c52-b9e9-bb5a65fe96ee",
   "metadata": {
    "tags": []
   },
   "outputs": [
    {
     "data": {
      "text/plain": [
       "Text(0, 0.5, 'Frequency')"
      ]
     },
     "execution_count": 51,
     "metadata": {},
     "output_type": "execute_result"
    },
    {
     "data": {
      "image/png": "[encoded data removed]",
      "text/plain": [
       "<Figure size 800x500 with 1 Axes>"
      ]
     },
     "metadata": {},
     "output_type": "display_data"
    }
   ],
   "source": [
    "#plot distplot for the users within 100 rounds\n",
    "# Filter the data for each version and where sum_gamerounds <= 100\n",
    "sumr_30_500 = df_removed[(df_removed['version'] == 'gate_30') & (df_removed['sum_gamerounds'] <= 100)]['sum_gamerounds']\n",
    "sumr_40_500 = df_removed[(df_removed['version'] == 'gate_40') & (df_removed['sum_gamerounds'] <= 100)]['sum_gamerounds']\n",
    "\n",
    "fig, ax = plt.subplots(figsize = (8, 5))\n",
    "ax1 = sns.distplot(sumr_30_500, color='blue', label='Gate 30')\n",
    "ax2 = sns.distplot(sumr_40_500, color='orange', label='Gate 40')\n",
    "ax.legend(title='Versions')\n",
    "ax.set_title('Total gamerounds under 100 by gate 30 vs gate 40')\n",
    "ax.set_xlabel('Number of gamerounds played')\n",
    "ax.set_ylabel('Frequency')"
   ]
  },
  {
   "cell_type": "code",
   "execution_count": 17,
   "id": "9bc8875a-8821-4828-8459-5352d345beb5",
   "metadata": {
    "tags": []
   },
   "outputs": [
    {
     "data": {
      "text/html": [
       "<div>\n",
       "<style scoped>\n",
       "    .dataframe tbody tr th:only-of-type {\n",
       "        vertical-align: middle;\n",
       "    }\n",
       "\n",
       "    .dataframe tbody tr th {\n",
       "        vertical-align: top;\n",
       "    }\n",
       "\n",
       "    .dataframe thead th {\n",
       "        text-align: right;\n",
       "    }\n",
       "</style>\n",
       "<table border=\"1\" class=\"dataframe\">\n",
       "  <thead>\n",
       "    <tr style=\"text-align: right;\">\n",
       "      <th></th>\n",
       "      <th>userid</th>\n",
       "      <th>version</th>\n",
       "      <th>sum_gamerounds</th>\n",
       "      <th>retention_1</th>\n",
       "      <th>retention_7</th>\n",
       "    </tr>\n",
       "  </thead>\n",
       "  <tbody>\n",
       "    <tr>\n",
       "      <th>0</th>\n",
       "      <td>116</td>\n",
       "      <td>gate_30</td>\n",
       "      <td>3</td>\n",
       "      <td>0</td>\n",
       "      <td>0</td>\n",
       "    </tr>\n",
       "    <tr>\n",
       "      <th>1</th>\n",
       "      <td>337</td>\n",
       "      <td>gate_30</td>\n",
       "      <td>38</td>\n",
       "      <td>1</td>\n",
       "      <td>0</td>\n",
       "    </tr>\n",
       "    <tr>\n",
       "      <th>2</th>\n",
       "      <td>377</td>\n",
       "      <td>gate_40</td>\n",
       "      <td>165</td>\n",
       "      <td>1</td>\n",
       "      <td>0</td>\n",
       "    </tr>\n",
       "    <tr>\n",
       "      <th>3</th>\n",
       "      <td>483</td>\n",
       "      <td>gate_40</td>\n",
       "      <td>1</td>\n",
       "      <td>0</td>\n",
       "      <td>0</td>\n",
       "    </tr>\n",
       "    <tr>\n",
       "      <th>4</th>\n",
       "      <td>488</td>\n",
       "      <td>gate_40</td>\n",
       "      <td>179</td>\n",
       "      <td>1</td>\n",
       "      <td>1</td>\n",
       "    </tr>\n",
       "  </tbody>\n",
       "</table>\n",
       "</div>"
      ],
      "text/plain": [
       "   userid  version  sum_gamerounds  retention_1  retention_7\n",
       "0     116  gate_30               3            0            0\n",
       "1     337  gate_30              38            1            0\n",
       "2     377  gate_40             165            1            0\n",
       "3     483  gate_40               1            0            0\n",
       "4     488  gate_40             179            1            1"
      ]
     },
     "execution_count": 17,
     "metadata": {},
     "output_type": "execute_result"
    }
   ],
   "source": [
    "#players retained in retention_1 and retention_7 by the version\n",
    "#change the values to True = 1, False = 0\n",
    "df_removed['retention_1'] = df_removed['retention_1'].astype(int)\n",
    "df_removed['retention_7'] = df_removed['retention_7'].astype(int)\n",
    "df_removed.head()"
   ]
  },
  {
   "cell_type": "code",
   "execution_count": 18,
   "id": "7428d16e-ac41-4238-a6ed-3b782ec76c73",
   "metadata": {
    "tags": []
   },
   "outputs": [
    {
     "name": "stdout",
     "output_type": "stream",
     "text": [
      "retention_1      0      1\n",
      "version                  \n",
      "gate_30      24665  20034\n",
      "gate_40      25370  20119\n"
     ]
    }
   ],
   "source": [
    "#Check the retention rates by after 1 days and after 7 days\n",
    "ret_1 = pd.crosstab(df_removed['version'], df_removed['retention_1'])\n",
    "print(ret_1)"
   ]
  },
  {
   "cell_type": "code",
   "execution_count": 19,
   "id": "cffc01af-017e-4dda-80da-117c0e879dc8",
   "metadata": {
    "tags": []
   },
   "outputs": [
    {
     "name": "stdout",
     "output_type": "stream",
     "text": [
      "retention_7      0     1\n",
      "version                 \n",
      "gate_30      36198  8501\n",
      "gate_40      37210  8279\n"
     ]
    }
   ],
   "source": [
    "ret_7 = pd.crosstab(df_removed['version'], df_removed['retention_7'])\n",
    "print(ret_7)"
   ]
  },
  {
   "cell_type": "code",
   "execution_count": 27,
   "id": "de630001-8a66-4427-9bd5-163aa1988657",
   "metadata": {
    "tags": []
   },
   "outputs": [
    {
     "data": {
      "text/html": [
       "<div>\n",
       "<style scoped>\n",
       "    .dataframe tbody tr th:only-of-type {\n",
       "        vertical-align: middle;\n",
       "    }\n",
       "\n",
       "    .dataframe tbody tr th {\n",
       "        vertical-align: top;\n",
       "    }\n",
       "\n",
       "    .dataframe thead th {\n",
       "        text-align: right;\n",
       "    }\n",
       "</style>\n",
       "<table border=\"1\" class=\"dataframe\">\n",
       "  <thead>\n",
       "    <tr style=\"text-align: right;\">\n",
       "      <th></th>\n",
       "      <th>retention_1</th>\n",
       "      <th>retention_7</th>\n",
       "    </tr>\n",
       "    <tr>\n",
       "      <th>version</th>\n",
       "      <th></th>\n",
       "      <th></th>\n",
       "    </tr>\n",
       "  </thead>\n",
       "  <tbody>\n",
       "    <tr>\n",
       "      <th>gate_30</th>\n",
       "      <td>0.4482</td>\n",
       "      <td>0.1902</td>\n",
       "    </tr>\n",
       "    <tr>\n",
       "      <th>gate_40</th>\n",
       "      <td>0.4423</td>\n",
       "      <td>0.1820</td>\n",
       "    </tr>\n",
       "  </tbody>\n",
       "</table>\n",
       "</div>"
      ],
      "text/plain": [
       "         retention_1  retention_7\n",
       "version                          \n",
       "gate_30       0.4482       0.1902\n",
       "gate_40       0.4423       0.1820"
      ]
     },
     "execution_count": 27,
     "metadata": {},
     "output_type": "execute_result"
    }
   ],
   "source": [
    "df_removed.groupby('version')[['retention_1','retention_7']].mean().round(4)"
   ]
  },
  {
   "cell_type": "markdown",
   "id": "2bb7b5e0-bb28-43c9-a818-a6762bd8fe00",
   "metadata": {},
   "source": [
    "It seems that the retention rates after 1 day is 44.8% for Gate 30 while 44.2% for Gate 40.\n",
    "On the other hand, the retention rates after 7 days are 19% for Gate 30 and 18.2% for Gate 40."
   ]
  },
  {
   "cell_type": "code",
   "execution_count": 38,
   "id": "897a68c3-084f-4072-8e34-330038e527b1",
   "metadata": {
    "tags": []
   },
   "outputs": [
    {
     "data": {
      "image/png": "[encoded data removed]",
      "text/plain": [
       "<Figure size 640x480 with 1 Axes>"
      ]
     },
     "metadata": {},
     "output_type": "display_data"
    },
    {
     "data": {
      "image/png": "[encoded data removed]",
      "text/plain": [
       "<Figure size 640x480 with 1 Axes>"
      ]
     },
     "metadata": {},
     "output_type": "display_data"
    }
   ],
   "source": [
    "#Visualization of retention - stacked bar chart\n",
    "# Group the data by 'version' and calculate the sum of 0s and 1s for each retention\n",
    "# Group the data by 'version' and calculate the counts of 0s and 1s for each retention\n",
    "grouped_retention_1 = df_removed.groupby('version')['retention_1'].value_counts().unstack(fill_value=0)\n",
    "grouped_retention_7 = df_removed.groupby('version')['retention_7'].value_counts().unstack(fill_value=0)\n",
    "\n",
    "# Plot stacked bar chart for retention_1\n",
    "ax1 = grouped_retention_1.plot(kind='bar', stacked=True)\n",
    "plt.xlabel('Version')\n",
    "plt.ylabel('Count')\n",
    "plt.title('Stacked Bar Chart of Retention_1 by Version')\n",
    "plt.xticks(rotation=0)\n",
    "plt.legend(title='Retention_1')\n",
    "\n",
    "# Plot stacked bar chart for retention_7\n",
    "ax2 = grouped_retention_7.plot(kind='bar', stacked=True)\n",
    "plt.xlabel('Version')\n",
    "plt.ylabel('Count')\n",
    "plt.title('Stacked Bar Chart of Retention_7 by Version')\n",
    "plt.xticks(rotation=0)\n",
    "plt.legend(title='Retention_7')\n",
    "\n",
    "plt.tight_layout()\n",
    "plt.show()"
   ]
  },
  {
   "cell_type": "markdown",
   "id": "774004b5-97a8-475b-8467-d43b757e5a76",
   "metadata": {},
   "source": [
    "###  Summary of findings so far\n",
    "- There was no missing values but some outliers in the dataset.\n",
    "- 3994 players never played the game after installing.\n",
    "- As the game rounds progress, fewer players are retained in the game.\n",
    "- The retention rates after 1 day are 44.8% (Gate 30)  vs 44.2% (Gate 40) while 7-day retention rates are 19% (Gate 30) vs 18.2% for (Gate 40). Putting the date at lv.30 has slightly higher retention in the both day(s)."
   ]
  },
  {
   "cell_type": "markdown",
   "id": "41720ed0-bde4-4149-9e0b-574df5ba5bce",
   "metadata": {
    "tags": []
   },
   "source": [
    "## 4. Hypothesis Testing"
   ]
  },
  {
   "cell_type": "markdown",
   "id": "96dde714-7ec2-4f3d-8b80-925145845a61",
   "metadata": {
    "tags": []
   },
   "source": [
    "###   z-test for 1 day retention"
   ]
  },
  {
   "cell_type": "code",
   "execution_count": 53,
   "id": "b9335b65-0d1b-4e4c-b048-ea525239a3f4",
   "metadata": {
    "tags": []
   },
   "outputs": [],
   "source": [
    "### Hypothesis Testing for retention after 1 day\n",
    "control_1 = df_removed[df_removed['version']=='gate_30']['retention_1']\n",
    "treatment_1 = df_removed[df_removed['version']=='gate_40']['retention_1']"
   ]
  },
  {
   "cell_type": "code",
   "execution_count": 54,
   "id": "456f2511-d1fa-4e8a-a0a6-7e3aa3db6d6d",
   "metadata": {
    "tags": []
   },
   "outputs": [
    {
     "name": "stdout",
     "output_type": "stream",
     "text": [
      "z statistic: 1.79\n",
      "p-value: 0.074\n",
      "Confidence interval 95% for control group: [0.444, 0.453]\n",
      "Confidence Interval 95% for treatment group: [0.438, 0.447]\n"
     ]
    }
   ],
   "source": [
    "n_con = control_1.count()\n",
    "n_treat = treatment_1.count()\n",
    "successes = [control_1.sum(), treatment_1.sum()]\n",
    "nobs = [n_con, n_treat]\n",
    "\n",
    "z_stat, pval = proportions_ztest(successes, nobs=nobs)\n",
    "(lower_con, lower_treat), (upper_con, upper_treat) = proportion_confint(successes, nobs=nobs, alpha=0.05)\n",
    "\n",
    "print(f'z statistic: {z_stat:.2f}')\n",
    "print(f'p-value: {pval:.3f}')\n",
    "print(f'Confidence interval 95% for control group: [{lower_con:.3f}, {upper_con:.3f}]')\n",
    "print(f'Confidence Interval 95% for treatment group: [{lower_treat:.3f}, {upper_treat:.3f}]')"
   ]
  },
  {
   "cell_type": "markdown",
   "id": "428b163c-848c-46fa-8ccb-8d3183b66240",
   "metadata": {},
   "source": [
    "#### Insights:\n",
    "The z statistic measures how many standard deviations the sample mean is away from the hypothesized population mean under the null hypothesis. z statistic here is positive and indicates that score is higher than the mean.\n",
    "p-value is above the predifined significance level of 0.005 but is pretty close to it. \n",
    "The null is not strictly rejected but it would be better to put the gate in the lv 30."
   ]
  },
  {
   "cell_type": "markdown",
   "id": "907cc221-f841-4cc1-addf-3c4bdeb58e6c",
   "metadata": {},
   "source": [
    "###  z-test for 7 day retention"
   ]
  },
  {
   "cell_type": "code",
   "execution_count": 57,
   "id": "38aaa0de-b849-4bb8-b087-f25103d98b2c",
   "metadata": {
    "tags": []
   },
   "outputs": [],
   "source": [
    "### Hypothesis Testing for retention after 1 day\n",
    "control_1 = df_removed[df_removed['version']=='gate_30']['retention_7']\n",
    "treatment_1 = df_removed[df_removed['version']=='gate_40']['retention_7']"
   ]
  },
  {
   "cell_type": "code",
   "execution_count": 58,
   "id": "76dc3014-50e9-4d90-a69e-b20ea3d216fe",
   "metadata": {
    "tags": []
   },
   "outputs": [
    {
     "name": "stdout",
     "output_type": "stream",
     "text": [
      "z statistic: 3.16\n",
      "p-value: 0.002\n",
      "Confidence interval 95% for control group: [0.187, 0.194]\n",
      "Confidence Interval 95% for treatment group: [0.178, 0.186]\n"
     ]
    }
   ],
   "source": [
    "n_con = control_1.count()\n",
    "n_treat = treatment_1.count()\n",
    "successes = [control_1.sum(), treatment_1.sum()]\n",
    "nobs = [n_con, n_treat]\n",
    "\n",
    "z_stat, pval = proportions_ztest(successes, nobs=nobs)\n",
    "(lower_con, lower_treat), (upper_con, upper_treat) = proportion_confint(successes, nobs=nobs, alpha=0.05)\n",
    "\n",
    "print(f'z statistic: {z_stat:.2f}')\n",
    "print(f'p-value: {pval:.3f}')\n",
    "print(f'Confidence interval 95% for control group: [{lower_con:.3f}, {upper_con:.3f}]')\n",
    "print(f'Confidence Interval 95% for treatment group: [{lower_treat:.3f}, {upper_treat:.3f}]')"
   ]
  },
  {
   "cell_type": "markdown",
   "id": "3873c986-6512-4f55-a6fc-cdbb48255d27",
   "metadata": {},
   "source": [
    "#### Insights:\n",
    "The p-value is way below the 0.05 significance level and null is clearly rejected. Also, z statistics is larger than 1 day retention, indicating larger standard deviation away from the mean.\n",
    "The gate should stay in the Lv 30 to retain the users for 7 days."
   ]
  },
  {
   "cell_type": "markdown",
   "id": "85a4117c-6b1c-4aae-ada6-70964003756f",
   "metadata": {},
   "source": [
    "# Conclusions"
   ]
  },
  {
   "cell_type": "markdown",
   "id": "34458e96-511f-4d20-a7ac-b215874797a6",
   "metadata": {
    "tags": []
   },
   "source": [
    "The business question was: does moving the first gate in Cookie Cats from level 30 to level 40 affect player retention and number of rounds. This time, we set the retention rate as the primary metric to assess the problem.\n",
    "\n",
    "By performing z-test, the null hypothesis, at which defined as the both group do not have significant difference at retention rate, was rejected, particularly for 7-day retention rate. While 1-day retention rate does not have a significant difference between the both level, the significance level was not so far from the thueshold of 0.05 and not strongly denied. The 7-day retention was clearly higher for lv 30 group with retention rate between 18.7 - 19.4% for the control group with 95% confidence level.\n",
    "\n",
    "The suggestion that can be made from this result is: the gate should stay in Lv. 30 to retain the customer for both 1 day and 7 days, especially for the 7-day retention rates.\n",
    "\n",
    "Additional insights found form examining the data was:\n",
    "- There was no missing values but some outliers in the dataset.\n",
    "- 3994 players never played the game after installing.\n",
    "- As the game rounds progress, fewer players are retained in the game."
   ]
  },
  {
   "cell_type": "code",
   "execution_count": null,
   "id": "d4eb5b3e-f062-4b47-8a97-f174a38b052c",
   "metadata": {},
   "outputs": [],
   "source": []
  }
 ],
 "metadata": {
  "kernelspec": {
   "display_name": "Python 3 (ipykernel)",
   "language": "python",
   "name": "python3"
  },
  "language_info": {
   "codemirror_mode": {
    "name": "ipython",
    "version": 3
   },
   "file_extension": ".py",
   "mimetype": "text/x-python",
   "name": "python",
   "nbconvert_exporter": "python",
   "pygments_lexer": "ipython3",
   "version": "3.10.12"
  }
 },
 "nbformat": 4,
 "nbformat_minor": 5
}
